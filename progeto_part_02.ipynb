{
 "cells": [
  {
   "cell_type": "code",
   "execution_count": 1,
   "id": "b8593ac5",
   "metadata": {},
   "outputs": [],
   "source": [
    "import pandas as pd\n",
    "import numpy  as np\n",
    "\n",
    "pd.options.display.max_rows = 300000"
   ]
  },
  {
   "cell_type": "code",
   "execution_count": 2,
   "id": "fec5fc01",
   "metadata": {},
   "outputs": [],
   "source": [
    "Gas_file_2004 = pd.read_csv(\"glp-2004-01.csv\",sep=';')\n",
    "Gas_file_2021 = pd.read_csv(\"glp-2021-02.csv\",sep=';')"
   ]
  },
  {
   "cell_type": "code",
   "execution_count": 3,
   "id": "2db5f35d",
   "metadata": {},
   "outputs": [],
   "source": [
    "#\"Valor de Venda(1)\"2004\n",
    "S = []\n",
    "for i in range(len(Gas_file_2004[\"Valor de Venda\"])):\n",
    "    S.append(float(Gas_file_2004[\"Valor de Venda\"][i].replace(',','.')))\n",
    "Gas_file_2004[\"Valor de Venda(1)\"] = S"
   ]
  },
  {
   "cell_type": "code",
   "execution_count": 4,
   "id": "ff343f97",
   "metadata": {},
   "outputs": [
    {
     "data": {
      "text/plain": [
       "Estado - Sigla\n",
       "AC    36.255114\n",
       "AL    31.531138\n",
       "AM    28.835837\n",
       "AP    34.596190\n",
       "BA    31.768457\n",
       "CE    31.544574\n",
       "DF    32.710784\n",
       "ES    29.414663\n",
       "GO    29.609190\n",
       "MA    32.272143\n",
       "MG    29.678263\n",
       "MS    33.251180\n",
       "MT    37.927329\n",
       "PA    31.081044\n",
       "PB    34.731466\n",
       "PE    31.713820\n",
       "PI    34.697006\n",
       "PR    31.214756\n",
       "RJ    28.825565\n",
       "RN    30.611594\n",
       "RO    32.986764\n",
       "RR    33.009042\n",
       "RS    30.638851\n",
       "SC    30.738555\n",
       "SE    32.367349\n",
       "SP    28.935521\n",
       "TO    33.085682\n",
       "Name: Valor de Venda(1), dtype: float64"
      ]
     },
     "execution_count": 4,
     "metadata": {},
     "output_type": "execute_result"
    }
   ],
   "source": [
    "Gas_file_2004.groupby(\"Estado - Sigla\")[\"Valor de Venda(1)\"].mean()"
   ]
  },
  {
   "cell_type": "code",
   "execution_count": 5,
   "id": "db77b69f",
   "metadata": {},
   "outputs": [
    {
     "data": {
      "text/plain": [
       "Estado - Sigla\n",
       "AC    35.0\n",
       "AL    32.0\n",
       "AM    28.6\n",
       "AP    33.0\n",
       "BA    32.0\n",
       "CE    31.0\n",
       "DF    32.0\n",
       "ES    30.0\n",
       "GO    29.0\n",
       "MA    32.0\n",
       "MG    30.0\n",
       "MS    33.0\n",
       "MT    38.0\n",
       "PA    30.0\n",
       "PB    35.0\n",
       "PE    32.0\n",
       "PI    35.0\n",
       "PR    31.0\n",
       "RJ    29.0\n",
       "RN    30.0\n",
       "RO    31.0\n",
       "RR    32.6\n",
       "RS    30.0\n",
       "SC    30.0\n",
       "SE    33.0\n",
       "SP    29.0\n",
       "TO    33.0\n",
       "Name: Valor de Venda(1), dtype: float64"
      ]
     },
     "execution_count": 5,
     "metadata": {},
     "output_type": "execute_result"
    }
   ],
   "source": [
    "Gas_file_2004.groupby(\"Estado - Sigla\")[\"Valor de Venda(1)\"].median()"
   ]
  },
  {
   "cell_type": "code",
   "execution_count": 6,
   "id": "fe34c6c2",
   "metadata": {},
   "outputs": [
    {
     "data": {
      "text/plain": [
       "4.993713379960604"
      ]
     },
     "execution_count": 6,
     "metadata": {},
     "output_type": "execute_result"
    }
   ],
   "source": [
    "np.var(Gas_file_2004.groupby(\"Estado - Sigla\")[\"Valor de Venda(1)\"].mean())"
   ]
  },
  {
   "cell_type": "code",
   "execution_count": 7,
   "id": "558c17f0",
   "metadata": {},
   "outputs": [
    {
     "data": {
      "text/plain": [
       "<AxesSubplot:>"
      ]
     },
     "execution_count": 7,
     "metadata": {},
     "output_type": "execute_result"
    },
    {
     "data": {
      "image/png": "[encoded data removed]",
      "text/plain": [
       "<Figure size 432x288 with 1 Axes>"
      ]
     },
     "metadata": {
      "needs_background": "light"
     },
     "output_type": "display_data"
    }
   ],
   "source": [
    "Gas_file_2004.boxplot(\"Valor de Venda(1)\")"
   ]
  },
  {
   "cell_type": "code",
   "execution_count": 8,
   "id": "9d8e6811",
   "metadata": {},
   "outputs": [],
   "source": [
    "#\"Valor de Venda(1)\"2011\n",
    "S = []\n",
    "for i in range(len(Gas_file_2021[\"Valor de Venda\"])):\n",
    "    S.append(float(Gas_file_2021[\"Valor de Venda\"][i].replace(',','.')))\n",
    "Gas_file_2021[\"Valor de Venda(1)\"] = S"
   ]
  },
  {
   "cell_type": "code",
   "execution_count": 9,
   "id": "a7616cf0",
   "metadata": {},
   "outputs": [
    {
     "data": {
      "text/plain": [
       "Estado - Sigla\n",
       "AC    113.443066\n",
       "AL     94.395011\n",
       "AM    102.980574\n",
       "AP    111.883408\n",
       "BA     92.193642\n",
       "CE    101.369052\n",
       "DF     94.301417\n",
       "ES     94.910787\n",
       "GO    102.909261\n",
       "MA     98.658382\n",
       "MG    100.398666\n",
       "MS     97.345783\n",
       "MT    118.692796\n",
       "PA    103.967591\n",
       "PB    100.099192\n",
       "PE     91.234632\n",
       "PI    103.062185\n",
       "PR    101.426372\n",
       "RJ     89.300676\n",
       "RN    103.788498\n",
       "RO    113.257866\n",
       "RR    110.663446\n",
       "RS     97.685097\n",
       "SC    106.674588\n",
       "SE     92.256123\n",
       "SP     97.354421\n",
       "TO    108.694978\n",
       "Name: Valor de Venda(1), dtype: float64"
      ]
     },
     "execution_count": 9,
     "metadata": {},
     "output_type": "execute_result"
    }
   ],
   "source": [
    "Gas_file_2021.groupby(\"Estado - Sigla\")[\"Valor de Venda(1)\"].mean()"
   ]
  },
  {
   "cell_type": "code",
   "execution_count": 10,
   "id": "1f438964",
   "metadata": {},
   "outputs": [
    {
     "data": {
      "text/plain": [
       "Estado - Sigla\n",
       "AC    114.00\n",
       "AL     95.00\n",
       "AM    102.00\n",
       "AP    114.00\n",
       "BA     90.00\n",
       "CE    100.05\n",
       "DF     95.00\n",
       "ES     95.00\n",
       "GO    100.00\n",
       "MA     99.99\n",
       "MG    100.00\n",
       "MS     98.00\n",
       "MT    120.00\n",
       "PA    104.99\n",
       "PB    100.00\n",
       "PE     90.00\n",
       "PI    103.50\n",
       "PR    100.00\n",
       "RJ     89.99\n",
       "RN    105.00\n",
       "RO    113.00\n",
       "RR    110.00\n",
       "RS     98.00\n",
       "SC    105.00\n",
       "SE     92.00\n",
       "SP     97.90\n",
       "TO    110.00\n",
       "Name: Valor de Venda(1), dtype: float64"
      ]
     },
     "execution_count": 10,
     "metadata": {},
     "output_type": "execute_result"
    }
   ],
   "source": [
    "Gas_file_2021.groupby(\"Estado - Sigla\")[\"Valor de Venda(1)\"].median()"
   ]
  },
  {
   "cell_type": "code",
   "execution_count": 11,
   "id": "30f5ecd3",
   "metadata": {},
   "outputs": [
    {
     "data": {
      "text/plain": [
       "55.436065498594594"
      ]
     },
     "execution_count": 11,
     "metadata": {},
     "output_type": "execute_result"
    }
   ],
   "source": [
    "np.var(Gas_file_2021.groupby(\"Estado - Sigla\")[\"Valor de Venda(1)\"].mean())"
   ]
  },
  {
   "cell_type": "code",
   "execution_count": 12,
   "id": "831b933e",
   "metadata": {},
   "outputs": [
    {
     "data": {
      "text/plain": [
       "<AxesSubplot:>"
      ]
     },
     "execution_count": 12,
     "metadata": {},
     "output_type": "execute_result"
    },
    {
     "data": {
      "image/png": "[encoded data removed]",
      "text/plain": [
       "<Figure size 432x288 with 1 Axes>"
      ]
     },
     "metadata": {
      "needs_background": "light"
     },
     "output_type": "display_data"
    }
   ],
   "source": [
    "Gas_file_2021.boxplot(\"Valor de Venda(1)\")"
   ]
  }
 ],
 "metadata": {
  "kernelspec": {
   "display_name": "Python 3 (ipykernel)",
   "language": "python",
   "name": "python3"
  },
  "language_info": {
   "codemirror_mode": {
    "name": "ipython",
    "version": 3
   },
   "file_extension": ".py",
   "mimetype": "text/x-python",
   "name": "python",
   "nbconvert_exporter": "python",
   "pygments_lexer": "ipython3",
   "version": "3.9.7"
  }
 },
 "nbformat": 4,
 "nbformat_minor": 5
}
